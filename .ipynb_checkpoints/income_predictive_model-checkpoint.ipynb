{
 "cells": [
  {
   "cell_type": "markdown",
   "metadata": {
    "colab_type": "text",
    "id": "PSDDC4ARk0ef"
   },
   "source": [
    "## Modelling income with demographic data\n",
    "\n",
    "\n",
    "##### Predicting individuals income using information from ```income_dataset_finalized.csv```.\n",
    "--\n",
    "\n",
    "\n",
    "\n",
    "This notebook contains all data preparation, model fitting, and statistical analysis of our model accuracies "
   ]
  },
  {
   "cell_type": "markdown",
   "metadata": {
    "colab_type": "text",
    "id": "317l8yvak0ei"
   },
   "source": [
    "#### Data Preprocessing\n",
    "\n",
    "--\n",
    "\n",
    "In order to give each model the best chance, the class labels are ordered appropriately for our predictive class explicitly using ```ordered_incomes```. The training data is automatically ordered by ```OrdinalEncoder```. \n"
   ]
  },
  {
   "cell_type": "code",
   "execution_count": 0,
   "metadata": {
    "colab": {
     "base_uri": "https://localhost:8080/",
     "height": 52
    },
    "colab_type": "code",
    "id": "Ik1VKu4qk0em",
    "outputId": "48925f9a-5cfa-47e2-f1cd-a174fa1db0c8"
   },
   "outputs": [
    {
     "name": "stdout",
     "output_type": "stream",
     "text": [
      "Shape of training data:  (447, 11)\n",
      "Shape of class labels:  (447,)\n"
     ]
    }
   ],
   "source": [
    "from sklearn.preprocessing import OrdinalEncoder\n",
    "import matplotlib.pyplot as plt\n",
    "import pandas as pd\n",
    "import numpy as np\n",
    "import re\n",
    "\n",
    "\n",
    "# Load csv file and account for NaN entries\n",
    "df = pd.read_csv('income_dataset_finalized.csv')\n",
    "df.fillna(\"None\", inplace=True)\n",
    "\n",
    "\n",
    "# Create an ordered list of our class labels\n",
    "ordered_incomes= [\n",
    "    \"Don't know/Refused\",\n",
    "    'Less than $10K', '$10K to under $20K',\n",
    "    '$20K to under $30K','$30K to under $40K',\n",
    "    '$40K to under $50K','$50K to under $75K',\n",
    "    '$75K to under $100K', '$100K to under $150',\n",
    "    '$150K or more'\n",
    "]\n",
    "\n",
    "# Encode training data\n",
    "encoder = OrdinalEncoder()\n",
    "X = encoder.fit_transform(df.iloc[:,1:-1])\n",
    "\n",
    "# Encode prediction classes with integer values\n",
    "switch = {inc:i for i,inc in enumerate(ordered_incomes)}\n",
    "map_ordered_incomes = lambda x:switch.get(x)\n",
    "y = df['Income'].apply(map_ordered_incomes).values\n",
    "\n",
    "print(\"Shape of training data: \", X.shape)\n",
    "print(\"Shape of class labels: \", y.shape) "
   ]
  },
  {
   "cell_type": "markdown",
   "metadata": {
    "colab_type": "text",
    "id": "yJKKnqxFk0es"
   },
   "source": [
    "### Model Selection\n",
    "\n",
    "To maximize reproducibility, the seperation of our validation data and labels is performed per instance of model fitting with a set random state $i$ in $\\{n\\in\\mathbf{N}:n=0,1,...,199\\}$\n",
    "\n",
    "This is seperate from the random state of each model instance, which is designated only once before going through the assessment pipeline.\n",
    "\n",
    "\n",
    "There are three models being evaluated here. The three with ```random_state``` arguments;\n",
    "```RandomForrestClassifer```, ```DecisionTreeClassifier```, \n",
    "are instantiated with random states 1 and 2, respectively\n",
    "\n",
    "```KNeighborsClassifier``` is deterministic and does not require a random state to be reproducible.\n",
    "\n",
    "\n",
    "--\n",
    "\n",
    "\n",
    "These particular models were chosen considering the relatively small size of our dataset, and the distribution of our samples across the various metrics. For example, all 50 states in the USA are present in the ```'State'``` column, and there are more than two dozen majors represented in the ```'Major'``` column.\n",
    "\n",
    "Trees/forrests should be able to find a relationship between each row of data and its class if there is s discernable relationship between the two present.\n",
    "\n",
    "Similarly, if we see that vectors with high cosine similarity often share labels, then a k-neighbors approach may be advantageous.\n"
   ]
  },
  {
   "cell_type": "code",
   "execution_count": 0,
   "metadata": {
    "colab": {},
    "colab_type": "code",
    "id": "x_Et7V8ck0et"
   },
   "outputs": [],
   "source": [
    "from sklearn.model_selection import train_test_split\n",
    "from sklearn.ensemble import RandomForestClassifier\n",
    "from sklearn.neighbors import KNeighborsClassifier\n",
    "from sklearn.tree import DecisionTreeClassifier\n",
    "\n",
    "\n",
    "# Random Forrest Model\n",
    "forrest = RandomForestClassifier(\n",
    "    n_estimators=200,\n",
    "    random_state=1\n",
    ")\n",
    "\n",
    "# Decision tree model\n",
    "tree = DecisionTreeClassifier(\n",
    "    criterion='entropy',\n",
    "    max_depth=8,\n",
    "    random_state=2\n",
    ")\n",
    "\n",
    "# K Neighbor model\n",
    "neighbor = KNeighborsClassifier(\n",
    "    n_neighbors=3\n",
    ")"
   ]
  },
  {
   "cell_type": "markdown",
   "metadata": {
    "colab_type": "text",
    "id": "6AHR_DYNk0ex"
   },
   "source": [
    "## Model Assessment\n",
    "\n",
    "--\n",
    "\n",
    "The assessment pipeline is as follows:\n",
    "\n",
    "- Each model is fit on a random partition of training data/labels (```X_train```/```y_train```) 80% the size of our data\n",
    "- Each model then predicts the labels for our ```X_test``` \n",
    "- We compute model ```accuracy```, which is ```predictions``` minus the true labels; ```y_test```\n",
    "\n",
    "Each model is assessed on 200 different partitions, then the mean and standard deviation of each accuracy distribution calculated and averaged.\n",
    "\n",
    "is close to 1, we can reliable predict income using the demographic data in question. \n",
    "\n"
   ]
  },
  {
   "cell_type": "code",
   "execution_count": 0,
   "metadata": {
    "colab": {},
    "colab_type": "code",
    "id": "TS-zF1-Sk0ey"
   },
   "outputs": [],
   "source": [
    "from sklearn.metrics import accuracy_score, classification_report\n",
    "\n",
    "\n",
    "def assess_model(model,i,X=X,y=y):\n",
    "    \"\"\" This function takes a model, data, labels and random state\n",
    "    then trains the model on a reproducibly unique partition, and\n",
    "    returns accuracy metrics for a given model\"\"\"\n",
    "    # Unique partition\n",
    "    X_train,X_test,y_train,y_test =\\\n",
    "    train_test_split(X,y,test_size=.2,random_state=i)\n",
    "    # Fit model to data\n",
    "    model.fit(X_train,y_train)\n",
    "    # Make predicitons on test set\n",
    "    predictions = model.predict(X_test)\n",
    "    # Compute difference from true and predicted class\n",
    "    accuracy = y_test - predictions\n",
    "    return accuracy\n",
    "\n",
    "def get_accuracies(model,n=200,assessor=assess_model,plot=False,title=''):\n",
    "    \"\"\"This function assesses a model n times and returns \n",
    "    an array containing each accuracy (plots histograms when plot=True)\"\"\"\n",
    "    # Compute accuracies\n",
    "    accuracies = [assessor(model,i) for i in range(n)]\n",
    "    accuracies = np.array(accuracies)\n",
    "    # Plot histograms if desired\n",
    "    if plot:\n",
    "        plt.figure(figsize=(8,5),dpi=120)\n",
    "        for acc in accuracies:\n",
    "            plt.hist(acc);\n",
    "        plt.title(title)\n",
    "        plt.show()\n",
    "    return accuracies"
   ]
  },
  {
   "cell_type": "code",
   "execution_count": 0,
   "metadata": {
    "colab": {
     "base_uri": "https://localhost:8080/",
     "height": 548
    },
    "colab_type": "code",
    "id": "cCNkwd_xk0e2",
    "outputId": "4071bd92-3a1d-492e-a4a5-3a65c81afe7a"
   },
   "outputs": [
    {
     "data": {
      "image/png": "[encoded data removed]",
      "text/plain": [
       "<Figure size 960x600 with 1 Axes>"
      ]
     },
     "metadata": {
      "needs_background": "light",
      "tags": []
     },
     "output_type": "display_data"
    }
   ],
   "source": [
    "neighbor_accuracies = get_accuracies(neighbor, plot=True, title='KNN accuracies')"
   ]
  },
  {
   "cell_type": "code",
   "execution_count": 0,
   "metadata": {
    "colab": {
     "base_uri": "https://localhost:8080/",
     "height": 548
    },
    "colab_type": "code",
    "id": "Ugstckpok0e6",
    "outputId": "07180a71-15c6-448b-bbdd-4d555cfe3c5f"
   },
   "outputs": [
    {
     "data": {
      "image/png": "[encoded data removed]",
      "text/plain": [
       "<Figure size 960x600 with 1 Axes>"
      ]
     },
     "metadata": {
      "needs_background": "light",
      "tags": []
     },
     "output_type": "display_data"
    }
   ],
   "source": [
    "tree_accuracies = get_accuracies(\n",
    "    tree,\n",
    "    plot=True, \n",
    "    title='DecisionTree Accuracies')"
   ]
  },
  {
   "cell_type": "code",
   "execution_count": 0,
   "metadata": {
    "colab": {
     "base_uri": "https://localhost:8080/",
     "height": 548
    },
    "colab_type": "code",
    "id": "v7zDHUG9k0e-",
    "outputId": "dc78b213-676d-41f9-bf2a-c5ce993b3a97",
    "scrolled": true
   },
   "outputs": [
    {
     "data": {
      "image/png": "[encoded data removed]",
      "text/plain": [
       "<Figure size 960x600 with 1 Axes>"
      ]
     },
     "metadata": {
      "needs_background": "light",
      "tags": []
     },
     "output_type": "display_data"
    }
   ],
   "source": [
    "forrest_accuracies = get_accuracies(\n",
    "    forrest,\n",
    "    plot=True, \n",
    "    title='RandomForrest Accuracies')"
   ]
  },
  {
   "cell_type": "markdown",
   "metadata": {},
   "source": [
    "#### Feature pruning"
   ]
  },
  {
   "cell_type": "code",
   "execution_count": null,
   "metadata": {},
   "outputs": [],
   "source": []
  },
  {
   "cell_type": "markdown",
   "metadata": {},
   "source": [
    "#### Hyperparameter optimization"
   ]
  },
  {
   "cell_type": "code",
   "execution_count": null,
   "metadata": {},
   "outputs": [],
   "source": []
  },
  {
   "cell_type": "markdown",
   "metadata": {
    "colab_type": "text",
    "id": "79mNp9zMk0fL"
   },
   "source": [
    "### Results\n",
    "\n",
    "--\n",
    "\n",
    "To quantify what can already be seen visually above, lets take the standard deviation of our sample means for each model's accuracy distribution:\n",
    "\n"
   ]
  },
  {
   "cell_type": "code",
   "execution_count": 0,
   "metadata": {
    "colab": {},
    "colab_type": "code",
    "id": "ebBVPZZYk0fM"
   },
   "outputs": [],
   "source": [
    "# List of our accuracy arrays\n",
    "model_accuracies = [forrest_accuracies,tree_accuracies,neighbor_accuracies]\n",
    "\n",
    "\n",
    "# Loop over all model accuracies\n",
    "result_metrics = []\n",
    "for accuracies in model_accuracies:\n",
    "    \n",
    "    # Find average mean and standard deviation for accuracy distributions\n",
    "    avg = sum([acc.mean() for acc in accuracies])/200\n",
    "    std = sum([acc.std() for acc in accuracies])/200\n",
    "    \n",
    "    # Append metrics to our list\n",
    "    result_metrics.append((avg,std))"
   ]
  },
  {
   "cell_type": "code",
   "execution_count": 0,
   "metadata": {
    "colab": {
     "base_uri": "https://localhost:8080/",
     "height": 34
    },
    "colab_type": "code",
    "id": "oQhEk49ml-l_",
    "outputId": "46140c34-4fde-44e4-e5ce-ae8479770dd8"
   },
   "outputs": [
    {
     "name": "stdout",
     "output_type": "stream",
     "text": [
      "[(0.10555555555555546, 2.80605435457701), (0.16277777777777783, 3.064440648872339), (1.437944444444446, 3.1974725376916435)]\n"
     ]
    }
   ],
   "source": [
    "print(result_metrics)"
   ]
  },
  {
   "cell_type": "markdown",
   "metadata": {
    "colab_type": "text",
    "id": "kaMmjhL9mCNt"
   },
   "source": [
    "We can see that our accuracy averages are around zero for the tree and forrest models, meaning that these model's guessed a person's income to be higher or lower than ground truth a roughly equal amount, as opposed to the neighbors model which had an average guess accuracy of +1.4.\n",
    "\n",
    "However, more consequential metric here is the standard deviation. We have greater that 2.5 $\\sigma$ values for each model meaning that it cannot reliably predict income according to our standard."
   ]
  },
  {
   "cell_type": "markdown",
   "metadata": {
    "colab_type": "text",
    "id": "dGnbbgmYpK8t"
   },
   "source": [
    "### Conclusion\n",
    "\n",
    "Perhaps these models could succeed with a greater number of samples or more personal metrics, but under the present circumstances none of our models attained statistically significant results for income prediciton."
   ]
  }
 ],
 "metadata": {
  "colab": {
   "name": "income_predictive_model.ipynb",
   "provenance": []
  },
  "kernelspec": {
   "display_name": "Python 3",
   "language": "python",
   "name": "python3"
  },
  "language_info": {
   "codemirror_mode": {
    "name": "ipython",
    "version": 3
   },
   "file_extension": ".py",
   "mimetype": "text/x-python",
   "name": "python",
   "nbconvert_exporter": "python",
   "pygments_lexer": "ipython3",
   "version": "3.7.4"
  }
 },
 "nbformat": 4,
 "nbformat_minor": 1
}
